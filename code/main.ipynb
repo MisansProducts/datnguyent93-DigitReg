{
 "cells": [
  {
   "cell_type": "code",
   "execution_count": null,
   "metadata": {},
   "outputs": [],
   "source": [
    "from PIL import Image\n",
    "import numpy as np\n",
    "import pandas as pd\n",
    "\n",
    "from keras.datasets import mnist\n",
    "from sklearn.metrics import accuracy_score, f1_score\n",
    "from sklearn.ensemble import RandomForestClassifier"
   ]
  },
  {
   "cell_type": "code",
   "execution_count": null,
   "metadata": {},
   "outputs": [],
   "source": [
    "(x_train, y_train), (x_test, y_test) = mnist.load_data()"
   ]
  },
  {
   "cell_type": "code",
   "execution_count": null,
   "metadata": {},
   "outputs": [],
   "source": [
    "# #Gets the image\n",
    "# image = Image.open(\"../images/gay.png\") #Loads the image\n",
    "# image = image.convert(\"L\") #Converts the image to grayscale\n",
    "# image = image.resize((28, 28)) #Resizes the image to 28x28 (if necessary)\n",
    "# image ="
   ]
  },
  {
   "cell_type": "code",
   "execution_count": null,
   "metadata": {},
   "outputs": [],
   "source": [
    "# pixels = []\n",
    "\n",
    "# #Loops through each pixel\n",
    "# for y in range(0, 28):\n",
    "#     for x in range(0, 28):\n",
    "#         pixel = image.getpixel((x, y))\n",
    "#         binary = 1 if (pixel < 255) else 0\n",
    "#         pixels.append(binary)\n",
    "# array = [pixels[i] for i in range(0, 784)]\n",
    "# np_array = np.array(array).ravel().reshape(1, -1)\n",
    "\n",
    "# flat_img = np.array(image).flatten()\n"
   ]
  },
  {
   "cell_type": "markdown",
   "metadata": {},
   "source": [
    "Data processing (if any)"
   ]
  },
  {
   "cell_type": "code",
   "execution_count": null,
   "metadata": {},
   "outputs": [],
   "source": [
    "#Print image\n",
    "def print_image(np_array):\n",
    "    for row in range(28):\n",
    "        for col in range(28):\n",
    "            cell = np_array[row, col]\n",
    "            if cell == 0:\n",
    "                print(cell, end = \" \")\n",
    "            else:\n",
    "                print(\"\\033[91m\" + str(cell) + \"\\033[0m\", end=\" \")\n",
    "        print()\n",
    "        \n",
    "        #thats gay\n",
    "        #if we RAVEL this (make into 1D array)\n",
    "        #THEN it saves space on computations\n",
    "        #AND we can ML the shit out of the arrays"
   ]
  },
  {
   "cell_type": "markdown",
   "metadata": {},
   "source": [
    "Create + custom model"
   ]
  },
  {
   "cell_type": "code",
   "execution_count": null,
   "metadata": {},
   "outputs": [],
   "source": [
    "# print_image(np_array.reshape(28,-1))\n",
    "#print_image(flat_img)"
   ]
  },
  {
   "cell_type": "code",
   "execution_count": null,
   "metadata": {},
   "outputs": [],
   "source": [
    "#x_train[0, 0]\n",
    "print(x_train.shape)\n",
    "\n",
    "x_train = x_train.reshape((-1, 28*28))/255\n",
    "x_test = x_test.reshape((-1, 28*28))/255\n",
    "print(x_test[0])"
   ]
  },
  {
   "cell_type": "code",
   "execution_count": null,
   "metadata": {},
   "outputs": [],
   "source": [
    "#Machine Learning time\n",
    "model = RandomForestClassifier()\n",
    "model.fit(x_train, y_train)\n",
    "predictions = model.predict(x_test)\n",
    "print(f\"Model Accuracy:\\t{accuracy_score(y_test, predictions)}\")\n"
   ]
  },
  {
   "cell_type": "code",
   "execution_count": null,
   "metadata": {},
   "outputs": [],
   "source": []
  },
  {
   "cell_type": "code",
   "execution_count": null,
   "metadata": {},
   "outputs": [],
   "source": [
    "test_img = Image.open(\"../images/alex8.png\")\n",
    "# test_img = test_img.convert(\"L\") #Converts the image to grayscale\n",
    "# test_img = test_img.resize((28, 28)) #Resizes the image to 28x28 (if necessary)\n",
    "# np_array = np.array(test_img).ravel().reshape(1, -1)\n",
    "# model.predict_proba(np_array[0].reshape(1,-1))\n",
    "np_array = np.array(test_img)/255.0\n",
    "\n",
    "flat = np_array.reshape(-1, 28*28)\n",
    "\n",
    "predict = model.predict(flat)\n",
    "print(predict[0])\n",
    "\n",
    "# Gets and prints result\n",
    "predicted_probabilities = model.predict_proba(flat)[0]\n",
    "predicted_number = model.predict(flat)[0]\n",
    "print(\"Chance of it being a...\")\n",
    "for i in range(1, 11):\n",
    "    print(\n",
    "        f\"\\033[92m{i-1}: {predicted_probabilities[i-1] * 100:05.2f}%\",\n",
    "        end=\"\\t\" if i % 3 else \"\\n\")\n",
    "print()\n",
    "print(f\"\\033[37mHmmmm... I think the number is a {predicted_number}\")"
   ]
  },
  {
   "cell_type": "markdown",
   "metadata": {},
   "source": []
  }
 ],
 "metadata": {
  "kernelspec": {
   "display_name": "base",
   "language": "python",
   "name": "python3"
  },
  "language_info": {
   "codemirror_mode": {
    "name": "ipython",
    "version": 3
   },
   "file_extension": ".py",
   "mimetype": "text/x-python",
   "name": "python",
   "nbconvert_exporter": "python",
   "pygments_lexer": "ipython3",
   "version": "3.11.5"
  },
  "orig_nbformat": 4
 },
 "nbformat": 4,
 "nbformat_minor": 2
}
